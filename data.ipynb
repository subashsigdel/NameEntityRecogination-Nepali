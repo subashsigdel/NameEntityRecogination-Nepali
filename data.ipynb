{
 "cells": [
  {
   "cell_type": "code",
   "execution_count": 3,
   "metadata": {},
   "outputs": [
    {
     "ename": "ModuleNotFoundError",
     "evalue": "No module named 'nepali_nltk'",
     "output_type": "error",
     "traceback": [
      "\u001b[0;31m---------------------------------------------------------------------------\u001b[0m",
      "\u001b[0;31mModuleNotFoundError\u001b[0m                       Traceback (most recent call last)",
      "Cell \u001b[0;32mIn[3], line 2\u001b[0m\n\u001b[1;32m      1\u001b[0m \u001b[38;5;28;01mimport\u001b[39;00m \u001b[38;5;21;01mcsv\u001b[39;00m\n\u001b[0;32m----> 2\u001b[0m \u001b[38;5;28;01mfrom\u001b[39;00m \u001b[38;5;21;01mnepali_nltk\u001b[39;00m \u001b[38;5;28;01mimport\u001b[39;00m Tokenizer, POS, Tagger\n\u001b[1;32m      3\u001b[0m \u001b[38;5;28;01mimport\u001b[39;00m \u001b[38;5;21;01mre\u001b[39;00m\n\u001b[1;32m      5\u001b[0m \u001b[38;5;28;01mdef\u001b[39;00m \u001b[38;5;21mpreprocess_sentence\u001b[39m(sentence):\n\u001b[1;32m      6\u001b[0m     \u001b[38;5;66;03m# Remove leading/trailing whitespace and punctuation\u001b[39;00m\n",
      "\u001b[0;31mModuleNotFoundError\u001b[0m: No module named 'nepali_nltk'"
     ]
    }
   ],
   "source": [
    "import csv\n",
    "from Nepali_nlp import Tokenizer\n",
    "import re\n",
    "\n",
    "def preprocess_sentence(sentence):\n",
    "    # Remove leading/trailing whitespace and punctuation\n",
    "    return re.sub(r'^[\\s।]+|[\\s।]+$', '', sentence)\n",
    "\n",
    "def tag_sentence(sentence, tokenizer, pos_tagger):\n",
    "    tokens = tokenizer.word_tokenize(sentence)\n",
    "    pos_tags = pos_tagger.tag(tokens)\n",
    "    return pos_tags\n",
    "\n",
    "def classify_entity(word, tag):\n",
    "    if tag.startswith('NN') and word[0].isupper():\n",
    "        return 'B-PER'  # Assuming capitalized nouns are names\n",
    "    elif tag == 'NNP':\n",
    "        return 'B-LOC'  # Proper nouns as locations\n",
    "    elif tag == 'NNBI':\n",
    "        return 'B-ORG'  # Organization\n",
    "    else:\n",
    "        return 'O'\n",
    "\n",
    "def process_sentences(sentences):\n",
    "    tokenizer = Tokenizer()\n",
    "    pos_tagger = Tagger(POS)\n",
    "    \n",
    "    csv_data = []\n",
    "    for i, sentence in enumerate(sentences, 1):\n",
    "        sentence = preprocess_sentence(sentence)\n",
    "        tagged_words = tag_sentence(sentence, tokenizer, pos_tagger)\n",
    "        \n",
    "        for word, tag in tagged_words:\n",
    "            entity_tag = classify_entity(word, tag)\n",
    "            csv_data.append([i, word, tag, entity_tag])\n",
    "    \n",
    "    return csv_data\n",
    "\n",
    "def write_to_csv(data, filename='nepali_pos_analysis.csv'):\n",
    "    with open(filename, 'w', newline='', encoding='utf-8') as file:\n",
    "        writer = csv.writer(file)\n",
    "        writer.writerow(['Sentence', 'Word', 'POS', 'Tag'])\n",
    "        writer.writerows(data)\n",
    "import pandas as pd\n",
    "\n",
    "# Step 1: Read the .txt file\n",
    "df = pd.read_csv('data.txt', header=None)  # Replace 'your_file.txt' with your filename\n",
    "\n",
    "# Step 2: Join the DataFrame into a single string\n",
    "text = ' '.join(df[0].tolist())\n",
    "\n",
    "# Step 3: Split the text into sentences and create a list\n",
    "sentence_list = text.split('।')\n",
    "\n",
    "# Remove any empty strings from the list (if necessary)\n",
    "sentences = [sentence.strip() for sentence in sentence_list if sentence.strip()]\n",
    "\n",
    "csv_data = process_sentences(sentences)\n",
    "write_to_csv(csv_data)\n",
    "print(f\"CSV file 'nepali_pos_analysis.csv' has been created.\")"
   ]
  },
  {
   "cell_type": "code",
   "execution_count": null,
   "metadata": {},
   "outputs": [],
   "source": []
  }
 ],
 "metadata": {
  "kernelspec": {
   "display_name": "Python 3",
   "language": "python",
   "name": "python3"
  },
  "language_info": {
   "codemirror_mode": {
    "name": "ipython",
    "version": 3
   },
   "file_extension": ".py",
   "mimetype": "text/x-python",
   "name": "python",
   "nbconvert_exporter": "python",
   "pygments_lexer": "ipython3",
   "version": "3.12.7"
  }
 },
 "nbformat": 4,
 "nbformat_minor": 2
}
